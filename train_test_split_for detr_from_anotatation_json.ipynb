{
 "cells": [
  {
   "cell_type": "code",
   "execution_count": 1,
   "metadata": {},
   "outputs": [],
   "source": [
    "from pathlib import Path\n",
    "import random\n",
    "from tqdm.notebook import tqdm\n",
    "import aozfileoperation.pdf_file_operation as pfo"
   ]
  },
  {
   "cell_type": "code",
   "execution_count": 2,
   "metadata": {},
   "outputs": [
    {
     "data": {
      "text/plain": [
       "dict_keys(['images', 'categories', 'annotations'])"
      ]
     },
     "execution_count": 2,
     "metadata": {},
     "output_type": "execute_result"
    }
   ],
   "source": [
    "DATA_ROOT = Path(\n",
    "    '/Volumes/GoogleDrive-117051946152776398938/.shortcut-targets-by-id/'\n",
    "    '14r-TRcZ12gyDHMDSihPQrLFDumDD1UTI/01_冷熱事業/03_データ/'\n",
    "    '0_アノテーションデータ/4_構造部材(柱)')\n",
    "anno_path = DATA_ROOT / Path('annotations_coco.json')\n",
    "anno_dict = pfo.read_json(anno_path)\n",
    "anno_dict.keys()"
   ]
  },
  {
   "cell_type": "code",
   "execution_count": 3,
   "metadata": {},
   "outputs": [],
   "source": [
    "# random.seed(1)\n",
    "# filenames = sorted((DATA_ROOT / Path('pdf')).glob('*.pdf'))\n",
    "# filenames = sorted([path.stem for path in filenames])\n",
    "# train = '\\n'.join(sorted(random.sample(filenames, 60)))\n",
    "# temp = [file for file in filenames if file not in train]\n",
    "# val = '\\n'.join(sorted(random.sample(temp, 20)))\n",
    "# test = '\\n'.join([file for file in temp if file not in val])\n",
    "\n",
    "# with open(DATA_ROOT / Path('train'), 'w') as f:\n",
    "#     f.writelines(train)\n",
    "# with open(DATA_ROOT / Path('val'), 'w') as f:\n",
    "#     f.writelines(val)\n",
    "# with open(DATA_ROOT / Path('test'), 'w') as f:\n",
    "#     f.writelines(test)"
   ]
  },
  {
   "cell_type": "code",
   "execution_count": 4,
   "metadata": {},
   "outputs": [],
   "source": [
    "with open(DATA_ROOT / Path('train'), 'r') as f:\n",
    "    train = f.read().split('\\n')\n",
    "with open(DATA_ROOT / Path('val'), 'r') as f:\n",
    "    val = f.read().split('\\n')\n",
    "with open(DATA_ROOT / Path('test'), 'r') as f:\n",
    "    test = f.read().split('\\n')"
   ]
  },
  {
   "cell_type": "code",
   "execution_count": 5,
   "metadata": {},
   "outputs": [
    {
     "data": {
      "application/vnd.jupyter.widget-view+json": {
       "model_id": "89de8354e71d491da02f5101b296670c",
       "version_major": 2,
       "version_minor": 0
      },
      "text/plain": [
       "  0%|          | 0/100 [00:00<?, ?it/s]"
      ]
     },
     "metadata": {},
     "output_type": "display_data"
    }
   ],
   "source": [
    "train_dict, val_dict, test_dict = {}, {}, {}\n",
    "train_img, val_img, test_img = [], [], []\n",
    "train_anno, val_anno, test_anno = [], [], []\n",
    "\n",
    "for img in tqdm(anno_dict['images'][:]):\n",
    "    if img['file_name'].split('.')[0] in train:\n",
    "        train_img.append(img)\n",
    "        image_id = img['id']\n",
    "        for anno in anno_dict['annotations'][:]:\n",
    "            if anno['image_id'] == image_id:\n",
    "                train_anno.append(anno)\n",
    "    elif img['file_name'].split('.')[0] in val:\n",
    "        val_img.append(img)\n",
    "        image_id = img['id']\n",
    "        for anno in anno_dict['annotations'][:]:\n",
    "            if anno['image_id'] == image_id:\n",
    "                val_anno.append(anno)\n",
    "    if img['file_name'].split('.')[0] in test:\n",
    "        test_img.append(img)\n",
    "        image_id = img['id']\n",
    "        for anno in anno_dict['annotations'][:]:\n",
    "            if anno['image_id'] == image_id:\n",
    "                test_anno.append(anno)\n"
   ]
  },
  {
   "cell_type": "code",
   "execution_count": 7,
   "metadata": {},
   "outputs": [],
   "source": [
    "train_dict['images'] = train_img\n",
    "train_dict['categories'] = anno_dict['categories']\n",
    "train_dict['annotations'] = train_anno\n",
    "\n",
    "val_dict['images'] = val_img\n",
    "val_dict['categories'] = anno_dict['categories']\n",
    "val_dict['annotations'] = val_anno\n",
    "\n",
    "test_dict['images'] = test_img\n",
    "test_dict['categories'] = anno_dict['categories']\n",
    "test_dict['annotations'] = test_anno\n",
    "\n",
    "# pfo.save_json(train_dict, str(DATA_ROOT / Path('train.json')))\n",
    "# pfo.save_json(train_dict, str(DATA_ROOT / Path('val.json')))\n",
    "# pfo.save_json(train_dict, str(DATA_ROOT / Path('test.json')))"
   ]
  },
  {
   "cell_type": "code",
   "execution_count": 12,
   "metadata": {},
   "outputs": [
    {
     "name": "stdout",
     "output_type": "stream",
     "text": [
      "20\n"
     ]
    }
   ],
   "source": [
    "tr_img = test_dict['images']\n",
    "count = 0\n",
    "for i in tr_img:\n",
    "    if i['file_name'].split('.')[0] in test:\n",
    "        count += 1\n",
    "print(count)"
   ]
  }
 ],
 "metadata": {
  "interpreter": {
   "hash": "1cf05afa4394e609ceb441c8c271271c73baccfa424bb880e47d59ed6c2ed24c"
  },
  "kernelspec": {
   "display_name": "Python 3.8.10 64-bit ('.venv': poetry)",
   "name": "python3"
  },
  "language_info": {
   "codemirror_mode": {
    "name": "ipython",
    "version": 3
   },
   "file_extension": ".py",
   "mimetype": "text/x-python",
   "name": "python",
   "nbconvert_exporter": "python",
   "pygments_lexer": "ipython3",
   "version": "3.8.10"
  },
  "orig_nbformat": 4
 },
 "nbformat": 4,
 "nbformat_minor": 2
}
