{
 "cells": [
  {
   "cell_type": "code",
   "execution_count": 1,
   "metadata": {},
   "outputs": [],
   "source": [
    "import sqlite3\n",
    "\n",
    "import sql_operation as so\n"
   ]
  },
  {
   "cell_type": "markdown",
   "metadata": {},
   "source": [
    "### DBを作成し、テーブルも作成"
   ]
  },
  {
   "cell_type": "code",
   "execution_count": 2,
   "metadata": {},
   "outputs": [],
   "source": [
    "dbname = './api_rsps.db'\n",
    "\n",
    "def create_db(dbname: str) -> None:\n",
    "    \"\"\"DBとTABLEを作成する関数\n",
    "\n",
    "    Args:\n",
    "        dbname (str): データベースの名前、もしくは、パス(e.g: test.db)\n",
    "    \"\"\"\n",
    "    con = sqlite3.connect(dbname)\n",
    "    cur = con.cursor()\n",
    "    cur.execute(\n",
    "        'CREATE TABLE IF NOT EXISTS api_result (id TEXT PRIMARY KEY,' +\n",
    "        'status TEXT, result TEXT, message TEXT, metadata TEXT)')\n",
    "    con.commit()\n",
    "    con.close()"
   ]
  },
  {
   "cell_type": "markdown",
   "metadata": {},
   "source": [
    "### カラム名一覧取得"
   ]
  },
  {
   "cell_type": "code",
   "execution_count": 5,
   "metadata": {},
   "outputs": [
    {
     "name": "stdout",
     "output_type": "stream",
     "text": [
      "('id', None, None, None, None, None, None)\n",
      "('status', None, None, None, None, None, None)\n",
      "('result', None, None, None, None, None, None)\n",
      "('message', None, None, None, None, None, None)\n",
      "('metadata', None, None, None, None, None, None)\n"
     ]
    }
   ],
   "source": [
    "conn = sqlite3.connect(dbname)\n",
    "cur = conn.cursor()\n",
    "cur.execute('select * from api_result')\n",
    "for d in cur.description:\n",
    "    print(d)\n",
    "conn.close()"
   ]
  },
  {
   "cell_type": "markdown",
   "metadata": {},
   "source": []
  }
 ],
 "metadata": {
  "kernelspec": {
   "display_name": "Python 3.7.12 ('.venv': poetry)",
   "language": "python",
   "name": "python3"
  },
  "language_info": {
   "codemirror_mode": {
    "name": "ipython",
    "version": 3
   },
   "file_extension": ".py",
   "mimetype": "text/x-python",
   "name": "python",
   "nbconvert_exporter": "python",
   "pygments_lexer": "ipython3",
   "version": "3.7.12"
  },
  "orig_nbformat": 4,
  "vscode": {
   "interpreter": {
    "hash": "7545a4b8a76e5047c1520026eefdc6b1e20dab25d61dbfcf7d087a4090794e7b"
   }
  }
 },
 "nbformat": 4,
 "nbformat_minor": 2
}
