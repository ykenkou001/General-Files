{
 "cells": [
  {
   "cell_type": "code",
   "execution_count": 1,
   "metadata": {},
   "outputs": [
    {
     "name": "stdout",
     "output_type": "stream",
     "text": [
      "\n",
      "PyMuPDF 1.19.6: Python bindings for the MuPDF 1.19.0 library.\n",
      "Version date: 2022-03-03 00:00:01.\n",
      "Built for Python 3.7 on darwin (64-bit).\n",
      "\n"
     ]
    }
   ],
   "source": [
    "import sys\n",
    "from pathlib import Path\n",
    "from pprint import pprint\n",
    "\n",
    "sys.path.append(str('/Users/kenichiyamashita/by_case/aoz_wrapper/aozfileoperation'))\n",
    "sys.path.append(str('../'))\n",
    "import cv2\n",
    "import fitz\n",
    "import numpy as np\n",
    "import pdf_file_operation as pfo\n",
    "import perpendicularlinesdetection.utils as utils\n",
    "from colorama import Back, Fore, Style\n",
    "from perpendicularlinesdetection import utils\n",
    "from tqdm.notebook import tqdm\n",
    "\n",
    "print(fitz.__doc__)\n"
   ]
  },
  {
   "cell_type": "markdown",
   "metadata": {},
   "source": [
    "# パスの設定"
   ]
  },
  {
   "cell_type": "code",
   "execution_count": 2,
   "metadata": {},
   "outputs": [],
   "source": [
    "SAVE_PATH = Path('/Volumes/GoogleDrive-107448067308560871230/マイドライブ/'\n",
    "                 '07_aoz_cloud/■メニュー別開発ファイル/1_配筋検査支援メニュー/'\n",
    "                 'No9_表のデータベース化精度強化/yamashita_dev/img')\n",
    "\n",
    "reinetsu_data_path_list = list(\n",
    "    Path('/Volumes/GoogleDrive-117051946152776398938/.shortcut-targets-by-id/'\n",
    "         '14r-TRcZ12gyDHMDSihPQrLFDumDD1UTI/01_冷熱事業/03_データ/'\n",
    "         '0_アノテーションデータ/3_表領域・切り出し線/pdf_copy').glob('*.pdf'))"
   ]
  },
  {
   "cell_type": "markdown",
   "metadata": {},
   "source": [
    "# PyMuPDF Tutorial"
   ]
  },
  {
   "cell_type": "code",
   "execution_count": 1,
   "metadata": {},
   "outputs": [
    {
     "name": "stdout",
     "output_type": "stream",
     "text": [
      "a0: (2384, 3370)\n",
      "a1: (1684, 2384)\n",
      "a10: (74, 105)\n",
      "a2: (1191, 1684)\n",
      "a3: (842, 1191)\n",
      "a4: (595, 842)\n",
      "a5: (420, 595)\n",
      "a6: (298, 420)\n",
      "a7: (210, 298)\n",
      "a8: (147, 210)\n",
      "a9: (105, 147)\n",
      "b0: (2835, 4008)\n",
      "b1: (2004, 2835)\n",
      "b10: (88, 125)\n",
      "b2: (1417, 2004)\n",
      "b3: (1001, 1417)\n",
      "b4: (709, 1001)\n",
      "b5: (499, 709)\n",
      "b6: (354, 499)\n",
      "b7: (249, 354)\n",
      "b8: (176, 249)\n",
      "b9: (125, 176)\n",
      "c0: (2599, 3677)\n",
      "c1: (1837, 2599)\n",
      "c10: (79, 113)\n",
      "c2: (1298, 1837)\n",
      "c3: (918, 1298)\n",
      "c4: (649, 918)\n",
      "c5: (459, 649)\n",
      "c6: (323, 459)\n",
      "c7: (230, 323)\n",
      "c8: (162, 230)\n",
      "c9: (113, 162)\n",
      "card-4x6: (288, 432)\n",
      "card-5x7: (360, 504)\n",
      "commercial: (297, 684)\n",
      "executive: (522, 756)\n",
      "invoice: (396, 612)\n",
      "ledger: (792, 1224)\n",
      "legal: (612, 1008)\n",
      "legal-13: (612, 936)\n",
      "letter: (612, 792)\n",
      "monarch: (279, 540)\n",
      "tabloid-extra: (864, 1296)\n"
     ]
    }
   ],
   "source": [
    "import fitz\n",
    "# print(f'a3 size: {fitz.paper_size(\"a3\")}')\n",
    "# print(f'a0 size: {fitz.paper_size(\"a0\")}')\n",
    "for i in list(fitz.paper_sizes().keys())[:]:\n",
    "    print(f'{i}: {fitz.paper_size(i)}')"
   ]
  },
  {
   "cell_type": "code",
   "execution_count": 4,
   "metadata": {},
   "outputs": [
    {
     "name": "stdout",
     "output_type": "stream",
     "text": [
      "<class 'fitz.fitz.Page'>\n",
      "page.rect: Rect(0.0, 0.0, 1191.0, 842.0)\n"
     ]
    }
   ],
   "source": [
    "# open Document\n",
    "num = 0\n",
    "# doc = fitz.Document(str(reinetsu_data_path_list[num]))\n",
    "doc = fitz.open(str(reinetsu_data_path_list[num]))\n",
    "page = doc[0]\n",
    "print(type(page))\n",
    "# ページを読み込む\n",
    "page = doc.load_page(0)\n",
    "# page size を取得\n",
    "page_rect = page.rect\n",
    "print(f'page.rect: {page_rect}')"
   ]
  },
  {
   "cell_type": "markdown",
   "metadata": {},
   "source": [
    "## pdf内のテキストデータを扱う"
   ]
  },
  {
   "cell_type": "code",
   "execution_count": 5,
   "metadata": {},
   "outputs": [],
   "source": [
    "HANDLING_TEXT = False\n",
    "if HANDLING_TEXT:\n",
    "    page_rawdict = page.get_text('rawdict')\n",
    "    page_dict = page.get_text('dict')\n",
    "    # page_xml = page.get_text('xml')\n",
    "    width, height = page_rawdict['width'], page_rawdict['height']\n",
    "\n",
    "    print(f'width: {width}, height: {height}')\n",
    "    blocks = page_dict['blocks']\n",
    "    for i in blocks[:]:\n",
    "        pprint(i)\n",
    "        print('*'*80)"
   ]
  },
  {
   "cell_type": "markdown",
   "metadata": {},
   "source": [
    "## PDFドキュメントから画像を作成する"
   ]
  },
  {
   "cell_type": "code",
   "execution_count": 6,
   "metadata": {},
   "outputs": [],
   "source": [
    "CREATE_IMAGE = False\n",
    "if CREATE_IMAGE:\n",
    "    # pageから画像を生成\n",
    "    pix = page.get_pixmap(alpha=False)\n",
    "    # dpiを変更する\n",
    "    pix1 = page.get_pixmap(dpi=200)\n",
    "    print(f'pix1: {pix1.width}, {pix1.height}')\n",
    "    # img sizeを変更する\n",
    "    zoom_x = 2.0  # horizontal zoom\n",
    "    zoom_y = 2.0  # vertical zoom\n",
    "    mat = fitz.Matrix(zoom_x, zoom_y)  # zoom factor 2 in each dimension\n",
    "    pix2 = page.get_pixmap(matrix=mat)  # use 'mat' instead of the identity matrix\n",
    "    print(f'pix2: {pix2.width}, {pix2.height}')\n",
    "    # save image\n",
    "    pix1.save(SAVE_PATH / f'{Path(doc.name).stem}_1.png')\n",
    "    pix2.save(SAVE_PATH / f'{Path(doc.name).stem}_2.png')"
   ]
  },
  {
   "cell_type": "markdown",
   "metadata": {},
   "source": [
    "## 図面の抽出"
   ]
  },
  {
   "cell_type": "code",
   "execution_count": 7,
   "metadata": {},
   "outputs": [],
   "source": [
    "COLOR = False\n",
    "if COLOR:\n",
    "    print(Fore.RED + 'some red text')\n",
    "    print(Back.GREEN + 'and with a green background')\n",
    "    print(Style.DIM + 'and in dim text')\n",
    "    print(Style.RESET_ALL)\n",
    "    print('back to normal now')"
   ]
  },
  {
   "cell_type": "code",
   "execution_count": 11,
   "metadata": {},
   "outputs": [],
   "source": [
    "DRAWING = False\n",
    "\n",
    "line_list = []\n",
    "rect_list = []\n",
    "quad_list = []\n",
    "curve_list = []\n",
    "if DRAWING:\n",
    "    # 各object情報を抽出する\n",
    "    paths = page.get_cdrawings()\n",
    "    print(f'{Fore.BLUE}len(paths):{Style.RESET_ALL} {len(paths)}')\n",
    "    for path in tqdm(paths[:]):\n",
    "        for item in path['items']:\n",
    "            if item[0] == 'l':\n",
    "                line_list.append([item[1], item[2]])\n",
    "                # pdfにlineを追加する場合\n",
    "                # page.add_line_annot(item[1], item[2])\n",
    "            elif item[0] == 're':\n",
    "                rect_list.append(item[1])\n",
    "            elif item[0] == 'qu':\n",
    "                quad_list.append(item[1])\n",
    "            elif item[0] == 'c':\n",
    "                curve_list.append([item[1], item[2], item[3], item[4]])\n",
    "            else:\n",
    "                raise ValueError(f'item[0]: {item[0]}')\n",
    "\n",
    "    print(f'line: {line_list[:2]}')\n",
    "    print(f'rect: {rect_list[:2]}')\n",
    "    print(f'quad: {quad_list[:2]}')\n",
    "    print(f'curve_list: {curve_list}')\n",
    "    # doc.save(SAVE_PATH / f'{Path(doc.name).stem}_3.pdf')\n",
    "    # PDF内の画像を抽出する\n"
   ]
  },
  {
   "cell_type": "code",
   "execution_count": 12,
   "metadata": {},
   "outputs": [],
   "source": [
    "# 既存のpdfにlineを上書きし、保存する\n",
    "OVERRIDE = False\n",
    "if OVERRIDE:\n",
    "    for line in line_list[:5]:\n",
    "        print(line)\n",
    "        page.draw_line(line[0], line[1], color=(1, 0, 0))\n",
    "    doc.save(SAVE_PATH / 'test.pdf')"
   ]
  },
  {
   "cell_type": "code",
   "execution_count": 10,
   "metadata": {},
   "outputs": [
    {
     "name": "stdout",
     "output_type": "stream",
     "text": [
      "(842, 1191, 3)\n"
     ]
    },
    {
     "data": {
      "text/plain": [
       "True"
      ]
     },
     "execution_count": 10,
     "metadata": {},
     "output_type": "execute_result"
    }
   ],
   "source": [
    "# pageを画像に変換し取得したlineデータを画像に上書きし保存する\n",
    "PROCESS = False\n",
    "if PROCESS:\n",
    "    # get image\n",
    "    img = AccessPDF.pixel2np(page)\n",
    "    cv2.imwrite(str(SAVE_PATH / f'{Path(doc.name).stem}.png'), img)\n",
    "    img_width = img.shape[1]\n",
    "    print(img.shape)\n",
    "    copy_img = img.copy()\n",
    "    # 各linesを取得する\n",
    "    lines_dict = utils.judge_direction(line_list)\n",
    "    x_lines = utils.convert_coordinates(lines_dict['x_lines'], img_width)\n",
    "    y_lines = utils.convert_coordinates(lines_dict['y_lines'], img_width)\n",
    "    other_lines = utils.convert_coordinates(lines_dict['other_lines'], img_width)\n",
    "    point_list = utils.convert_coordinates(lines_dict['point_list'], img_width)\n",
    "    # 線を可視化し、画像を保存する\n",
    "    thickness = 1\n",
    "    pfo.draw_lines_from_pdf(x_lines, copy_img, color=(0, 0, 255), thickness=thickness)\n",
    "    pfo.draw_lines_from_pdf(y_lines, copy_img, color=(255, 0, 0), thickness=thickness)\n",
    "    pfo.draw_lines_from_pdf(other_lines, copy_img, color=(0, 255, 0), thickness=thickness)\n",
    "    cv2.imwrite(str(SAVE_PATH / f'{Path(doc.name).stem}_override.png'), copy_img)"
   ]
  },
  {
   "cell_type": "code",
   "execution_count": 11,
   "metadata": {},
   "outputs": [],
   "source": [
    "XREF = False\n",
    "if XREF:\n",
    "    # pdf内のオブジェクトの総数を取得する\n",
    "    xref_length = doc.xref_length()\n",
    "    print(f'xref_length: {xref_length}')\n",
    "    for xref in range(xref_length):\n",
    "        print(f'extract_image: {doc.extract_image(xref)}')\n",
    "    # page内の画像を抽出する\n",
    "    xref = doc.page_xref(0) # pno=0\n",
    "    print(f'xref: {xref}')\n",
    "    d = doc.extract_image(16)\n",
    "    print(d)\n",
    "    # img_list = page.get_images()\n",
    "    # print(f'img_list: {img_list}\\nimg_info: {img_info}')"
   ]
  }
 ],
 "metadata": {
  "interpreter": {
   "hash": "3147b5f009a7f66ceefb3db1e39590fedf633f989cba639f24db50acfaee7c22"
  },
  "kernelspec": {
   "display_name": "Python 3.7.12 ('.venv': poetry)",
   "language": "python",
   "name": "python3"
  },
  "language_info": {
   "codemirror_mode": {
    "name": "ipython",
    "version": 3
   },
   "file_extension": ".py",
   "mimetype": "text/x-python",
   "name": "python",
   "nbconvert_exporter": "python",
   "pygments_lexer": "ipython3",
   "version": "3.7.12"
  },
  "orig_nbformat": 4
 },
 "nbformat": 4,
 "nbformat_minor": 2
}
