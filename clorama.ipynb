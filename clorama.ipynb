{
 "cells": [
  {
   "cell_type": "markdown",
   "id": "5ac232b1",
   "metadata": {},
   "source": [
    "# Colorama"
   ]
  },
  {
   "cell_type": "code",
   "execution_count": 3,
   "id": "d8d33e31",
   "metadata": {
    "scrolled": false
   },
   "outputs": [],
   "source": [
    "from colorama import Back, Fore, Style, init\n",
    "\n",
    "# init(autoreset=True)\n"
   ]
  },
  {
   "cell_type": "code",
   "execution_count": 5,
   "id": "cd832558",
   "metadata": {},
   "outputs": [
    {
     "name": "stdout",
     "output_type": "stream",
     "text": [
      "\u001b[31m文字色を赤色にする\n",
      "\u001b[44m背景色を青色にする\n",
      "\u001b[33m\u001b[47m文字色を黄色、背景色を白色にする\n",
      "\u001b[0m\n",
      "デフォルトの色\n"
     ]
    }
   ],
   "source": [
    "print(Fore.RED + '文字色を赤色にする')\n",
    "print(Back.BLUE + '背景色を青色にする')\n",
    "print(Fore.YELLOW + Back.WHITE + '文字色を黄色、背景色を白色にする')\n",
    "print(Style.RESET_ALL)\n",
    "print('デフォルトの色')"
   ]
  }
 ],
 "metadata": {
  "interpreter": {
   "hash": "3147b5f009a7f66ceefb3db1e39590fedf633f989cba639f24db50acfaee7c22"
  },
  "kernelspec": {
   "display_name": "Python 3.7.12 ('.venv': poetry)",
   "language": "python",
   "name": "python3"
  },
  "language_info": {
   "codemirror_mode": {
    "name": "ipython",
    "version": 3
   },
   "file_extension": ".py",
   "mimetype": "text/x-python",
   "name": "python",
   "nbconvert_exporter": "python",
   "pygments_lexer": "ipython3",
   "version": "3.7.12"
  }
 },
 "nbformat": 4,
 "nbformat_minor": 5
}
